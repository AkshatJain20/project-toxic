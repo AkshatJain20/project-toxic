{
 "cells": [
  {
   "cell_type": "code",
   "execution_count": 42,
   "metadata": {},
   "outputs": [
    {
     "name": "stdout",
     "output_type": "stream",
     "text": [
      "Enter your comment:Yo bitch Ja Rule is more succesful then you'll ever be whats up with you and hating you sad mofuckas...i should bitch slap ur pethedic white faces and get you to kiss my ass you guys sicken me. Ja rule is about pride in da music man. dont diss that shit on him. and nothin is wrong bein like tupac he was a brother too...fuckin white boys get things right next time.\n",
      "abusive comment\n",
      "categories of abusive comment: ['toxic', 'obscene', 'insult']\n"
     ]
    }
   ],
   "source": [
    "import joblib\n",
    "\n",
    "jb = joblib.load(\"job_tfv\")\n",
    "\n",
    "jb1 = joblib.load(\"job_model\")\n",
    "\n",
    "str1 = input(\"Enter your comment:\")\n",
    "\n",
    "import re\n",
    "from nltk.corpus import stopwords\n",
    "from nltk.stem import PorterStemmer, WordNetLemmatizer\n",
    "\n",
    "ps = PorterStemmer()\n",
    "lm = WordNetLemmatizer()\n",
    "c = []\n",
    "str1 = re.sub('[^a-zA-Z]', ' ', str1)\n",
    "str1= str1.lower()\n",
    "str1 = str1.split()\n",
    "str1 = [word for word in str1 if not word in set(stopwords.words('english'))]\n",
    "str1 = [ps.stem(lm.lemmatize(word)) for word in str1]\n",
    "str1 = \" \".join(str1)\n",
    "c.append(str1)\n",
    "\n",
    "test = jb.transform(c).toarray()\n",
    "\n",
    "pred = jb1.predict(test)\n",
    "type(pred)\n",
    "\n",
    "if pred[:,:].toarray().any() == 1:\n",
    "    print(\"abusive comment\")\n",
    "else:\n",
    "    print(\"comment is fine\")\n",
    "\n",
    "classes = ['toxic', 'severe_toxic' , 'obscene' , 'threat' , 'insult' , 'identity_hate']\n",
    "categories = []\n",
    "for k in range(0,6):\n",
    "    if pred[0,k] == 1:\n",
    "        categories.append(classes[k])\n",
    "if pred[:,:].toarray().any() == 1:\n",
    "    print(\"categories of abusive comment:\", categories)"
   ]
  }
 ],
 "metadata": {
  "kernelspec": {
   "display_name": "Python 3",
   "language": "python",
   "name": "python3"
  },
  "language_info": {
   "codemirror_mode": {
    "name": "ipython",
    "version": 3
   },
   "file_extension": ".py",
   "mimetype": "text/x-python",
   "name": "python",
   "nbconvert_exporter": "python",
   "pygments_lexer": "ipython3",
   "version": "3.7.7"
  }
 },
 "nbformat": 4,
 "nbformat_minor": 4
}
